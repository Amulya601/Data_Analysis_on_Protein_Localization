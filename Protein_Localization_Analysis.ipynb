{
 "cells": [
  {
   "cell_type": "markdown",
   "metadata": {
    "id": "YDkn--vjlx9I"
   },
   "source": [
    "# Protein Localization (Classification)\n",
    "\n",
    "The data constitutes some attributes about the cells from different plants and the target attribute is the cellular localization site of proteins (non-numeric). There are 10 classes, 8 attributes (features) and 1484 instances. No missing values.\n",
    "\n",
    "\n",
    "Class distribution (unbalanced):\n",
    "-  CYT (cytosolic or cytoskeletal)                    463\n",
    "-  NUC (nuclear)                                      429\n",
    "-  MIT (mitochondrial)                                244\n",
    "-  ME3 (membrane protein, no N-terminal signal)       163\n",
    "-  ME2 (membrane protein, uncleaved signal)            51\n",
    "-  ME1 (membrane protein, cleaved signal)              44\n",
    "-  EXC (extracellular)                                 37\n",
    "-  VAC (vacuolar)                                      30\n",
    "-  POX (peroxisomal)                                   20\n",
    "-  ERL (endoplasmic reticulum lumen)                    5"
   ]
  },
  {
   "cell_type": "markdown",
   "metadata": {
    "id": "541GMH5SV7FB"
   },
   "source": [
    "## TEAMMATES\n",
    "#### Sri Vaishnavi Kudikalla(UF55532)\n",
    "#### Amulya Potluri"
   ]
  },
  {
   "cell_type": "markdown",
   "metadata": {},
   "source": [
    "Build a ML system to predict the correct class for a given sample.To achieve this, we used various ML classification algorithms to compare which algorithm can predict the best result possible. Data Visualization,feature selection,paramter tuning and ensembling are the  approaches used."
   ]
  },
  {
   "cell_type": "markdown",
   "metadata": {},
   "source": [
    "# More About Dataset\n",
    "\n",
    "## Protein Localization\n",
    "\n",
    "Protein Localization is the process of determining where in the cell a protein is located (for example, in membranes, in the nucleus, in mitochondria, etc...)\n",
    "\n",
    "The abbreviations for the classes correspond to different cellular compartments or locations where proteins can be found. Here is a breakdown of the abbreviations and their meanings:\n",
    "\n",
    "CYT (cytosolic or cytoskeletal): Proteins located in the cytosol or associated with the cytoskeleton.\n",
    "\n",
    "NUC (nuclear): Proteins located within the nucleus of a cell.\n",
    "\n",
    "MIT (mitochondrial): Proteins localized to the mitochondria, which are organelles responsible for energy production in the cell.\n",
    "\n",
    "ME3 (membrane protein, no N-terminal signal): Membrane proteins that are inserted into the cellular membrane but do not have a signal sequence at their N-terminus.\n",
    "\n",
    "ME2 (membrane protein, uncleaved signal): Membrane proteins that have a signal sequence at their N-terminus but have not been cleaved after insertion into the membrane.\n",
    "\n",
    "ME1 (membrane protein, cleaved signal): Membrane proteins that have a signal sequence at their N-terminus, which is cleaved after the protein is inserted into the membrane.\n",
    "\n",
    "EXC (extracellular): Proteins that are secreted or localized outside of the cell.\n",
    "\n",
    "VAC (vacuolar): Proteins located within vacuoles, which are membrane-bound compartments involved in storage, transport, or degradation of cellular components.\n",
    "\n",
    "POX (peroxisomal): Proteins localized to peroxisomes, which are organelles involved in various metabolic processes, including lipid metabolism and detoxification.\n",
    "\n",
    "ERL (endoplasmic reticulum lumen): Proteins localized within the lumen, or interior, of the endoplasmic reticulum (ER), which is involved in protein synthesis, folding, and modification.\n",
    "\n",
    "These abbreviations are used in protein localization to describe the subcellular localization of proteins.\n",
    "\n"
   ]
  },
  {
   "cell_type": "markdown",
   "metadata": {
    "id": "7jmLz9ZcWfRg"
   },
   "source": [
    "### Importing Libraries"
   ]
  },
  {
   "cell_type": "code",
   "execution_count": 1,
   "metadata": {
    "id": "OraxTXSVNur2"
   },
   "outputs": [],
   "source": [
    "#importing all the necessary libraries.\n",
    "from collections import Counter\n",
    "import pandas as pd\n",
    "import numpy as np\n",
    "from sklearn.model_selection import train_test_split, GridSearchCV\n",
    "from sklearn.preprocessing import LabelEncoder\n",
    "from sklearn.metrics import classification_report\n",
    "import seaborn as sns\n",
    "import matplotlib.pyplot as plt\n",
    "import numpy as np\n",
    "from sklearn.linear_model import LogisticRegression\n",
    "from sklearn.tree import DecisionTreeClassifier\n",
    "from sklearn.svm import SVC\n",
    "from sklearn.neighbors import KNeighborsClassifier\n",
    "from sklearn.naive_bayes import GaussianNB\n",
    "from sklearn.metrics import accuracy_score\n",
    "from sklearn.ensemble import RandomForestClassifier"
   ]
  },
  {
   "cell_type": "markdown",
   "metadata": {
    "id": "qfxLzQ4Li8Xm"
   },
   "source": [
    "### Downloading the dataset"
   ]
  },
  {
   "cell_type": "code",
   "execution_count": 2,
   "metadata": {
    "colab": {
     "base_uri": "https://localhost:8080/",
     "height": 223
    },
    "id": "Qo80Q5w1hBdm",
    "outputId": "84b692cb-211c-4e3f-fd7f-30ae4f0a64c5"
   },
   "outputs": [
    {
     "name": "stderr",
     "output_type": "stream",
     "text": [
      "fatal: destination path 'DATA602repo' already exists and is not an empty directory.\n"
     ]
    },
    {
     "data": {
      "text/html": [
       "<div>\n",
       "<style scoped>\n",
       "    .dataframe tbody tr th:only-of-type {\n",
       "        vertical-align: middle;\n",
       "    }\n",
       "\n",
       "    .dataframe tbody tr th {\n",
       "        vertical-align: top;\n",
       "    }\n",
       "\n",
       "    .dataframe thead th {\n",
       "        text-align: right;\n",
       "    }\n",
       "</style>\n",
       "<table border=\"1\" class=\"dataframe\">\n",
       "  <thead>\n",
       "    <tr style=\"text-align: right;\">\n",
       "      <th></th>\n",
       "      <th>1</th>\n",
       "      <th>2</th>\n",
       "      <th>3</th>\n",
       "      <th>4</th>\n",
       "      <th>5</th>\n",
       "      <th>6</th>\n",
       "      <th>7</th>\n",
       "      <th>8</th>\n",
       "      <th>9</th>\n",
       "    </tr>\n",
       "  </thead>\n",
       "  <tbody>\n",
       "    <tr>\n",
       "      <th>0</th>\n",
       "      <td>0.58</td>\n",
       "      <td>0.61</td>\n",
       "      <td>0.47</td>\n",
       "      <td>0.13</td>\n",
       "      <td>0.5</td>\n",
       "      <td>0.0</td>\n",
       "      <td>0.48</td>\n",
       "      <td>0.22</td>\n",
       "      <td>MIT</td>\n",
       "    </tr>\n",
       "    <tr>\n",
       "      <th>1</th>\n",
       "      <td>0.43</td>\n",
       "      <td>0.67</td>\n",
       "      <td>0.48</td>\n",
       "      <td>0.27</td>\n",
       "      <td>0.5</td>\n",
       "      <td>0.0</td>\n",
       "      <td>0.53</td>\n",
       "      <td>0.22</td>\n",
       "      <td>MIT</td>\n",
       "    </tr>\n",
       "    <tr>\n",
       "      <th>2</th>\n",
       "      <td>0.64</td>\n",
       "      <td>0.62</td>\n",
       "      <td>0.49</td>\n",
       "      <td>0.15</td>\n",
       "      <td>0.5</td>\n",
       "      <td>0.0</td>\n",
       "      <td>0.53</td>\n",
       "      <td>0.22</td>\n",
       "      <td>MIT</td>\n",
       "    </tr>\n",
       "    <tr>\n",
       "      <th>3</th>\n",
       "      <td>0.58</td>\n",
       "      <td>0.44</td>\n",
       "      <td>0.57</td>\n",
       "      <td>0.13</td>\n",
       "      <td>0.5</td>\n",
       "      <td>0.0</td>\n",
       "      <td>0.54</td>\n",
       "      <td>0.22</td>\n",
       "      <td>NUC</td>\n",
       "    </tr>\n",
       "    <tr>\n",
       "      <th>4</th>\n",
       "      <td>0.42</td>\n",
       "      <td>0.44</td>\n",
       "      <td>0.48</td>\n",
       "      <td>0.54</td>\n",
       "      <td>0.5</td>\n",
       "      <td>0.0</td>\n",
       "      <td>0.48</td>\n",
       "      <td>0.22</td>\n",
       "      <td>MIT</td>\n",
       "    </tr>\n",
       "  </tbody>\n",
       "</table>\n",
       "</div>"
      ],
      "text/plain": [
       "      1     2     3     4    5    6     7     8    9\n",
       "0  0.58  0.61  0.47  0.13  0.5  0.0  0.48  0.22  MIT\n",
       "1  0.43  0.67  0.48  0.27  0.5  0.0  0.53  0.22  MIT\n",
       "2  0.64  0.62  0.49  0.15  0.5  0.0  0.53  0.22  MIT\n",
       "3  0.58  0.44  0.57  0.13  0.5  0.0  0.54  0.22  NUC\n",
       "4  0.42  0.44  0.48  0.54  0.5  0.0  0.48  0.22  MIT"
      ]
     },
     "execution_count": 2,
     "metadata": {},
     "output_type": "execute_result"
    }
   ],
   "source": [
    "#Retreiving the data from git repository\n",
    "!git clone https://github.com/cvrg-iyte/DATA602repo.git\n",
    "#loading the data into data variable\n",
    "protein_df = pd.read_csv(\"./DATA602repo/proteinlocalization.data\", header=None, delim_whitespace=True)\n",
    "protein_df = protein_df.drop(0, axis=1)\n",
    "protein_df.head()"
   ]
  },
  {
   "cell_type": "markdown",
   "metadata": {
    "id": "7IBAp8mWkWCj"
   },
   "source": [
    "The last column is the class names, so we are converting this column into a target array (y). we can also prefer to convert them into numerical class values as well like class 0, class 1, etc.\n",
    "\n"
   ]
  },
  {
   "cell_type": "markdown",
   "metadata": {
    "id": "uR4X7-rmNur8"
   },
   "source": [
    "## Data Preproccessing"
   ]
  },
  {
   "cell_type": "code",
   "execution_count": 3,
   "metadata": {
    "colab": {
     "base_uri": "https://localhost:8080/"
    },
    "id": "fgn5NRaCVmQB",
    "outputId": "c093eac2-ce3a-408e-a01b-ba10366e78d1"
   },
   "outputs": [
    {
     "data": {
      "text/plain": [
       "(1484, 9)"
      ]
     },
     "execution_count": 3,
     "metadata": {},
     "output_type": "execute_result"
    }
   ],
   "source": [
    "#Displays the rows count and column count\n",
    "protein_df.shape"
   ]
  },
  {
   "cell_type": "code",
   "execution_count": 4,
   "metadata": {
    "colab": {
     "base_uri": "https://localhost:8080/",
     "height": 423
    },
    "id": "iuFcfFMLNur8",
    "outputId": "1cc07078-6fd3-4d56-ec94-984fb46d0332"
   },
   "outputs": [
    {
     "data": {
      "text/html": [
       "<div>\n",
       "<style scoped>\n",
       "    .dataframe tbody tr th:only-of-type {\n",
       "        vertical-align: middle;\n",
       "    }\n",
       "\n",
       "    .dataframe tbody tr th {\n",
       "        vertical-align: top;\n",
       "    }\n",
       "\n",
       "    .dataframe thead th {\n",
       "        text-align: right;\n",
       "    }\n",
       "</style>\n",
       "<table border=\"1\" class=\"dataframe\">\n",
       "  <thead>\n",
       "    <tr style=\"text-align: right;\">\n",
       "      <th></th>\n",
       "      <th>1</th>\n",
       "      <th>2</th>\n",
       "      <th>3</th>\n",
       "      <th>4</th>\n",
       "      <th>5</th>\n",
       "      <th>6</th>\n",
       "      <th>7</th>\n",
       "      <th>8</th>\n",
       "      <th>9</th>\n",
       "    </tr>\n",
       "  </thead>\n",
       "  <tbody>\n",
       "    <tr>\n",
       "      <th>0</th>\n",
       "      <td>0.58</td>\n",
       "      <td>0.61</td>\n",
       "      <td>0.47</td>\n",
       "      <td>0.13</td>\n",
       "      <td>0.5</td>\n",
       "      <td>0.0</td>\n",
       "      <td>0.48</td>\n",
       "      <td>0.22</td>\n",
       "      <td>MIT</td>\n",
       "    </tr>\n",
       "    <tr>\n",
       "      <th>1</th>\n",
       "      <td>0.43</td>\n",
       "      <td>0.67</td>\n",
       "      <td>0.48</td>\n",
       "      <td>0.27</td>\n",
       "      <td>0.5</td>\n",
       "      <td>0.0</td>\n",
       "      <td>0.53</td>\n",
       "      <td>0.22</td>\n",
       "      <td>MIT</td>\n",
       "    </tr>\n",
       "    <tr>\n",
       "      <th>2</th>\n",
       "      <td>0.64</td>\n",
       "      <td>0.62</td>\n",
       "      <td>0.49</td>\n",
       "      <td>0.15</td>\n",
       "      <td>0.5</td>\n",
       "      <td>0.0</td>\n",
       "      <td>0.53</td>\n",
       "      <td>0.22</td>\n",
       "      <td>MIT</td>\n",
       "    </tr>\n",
       "    <tr>\n",
       "      <th>3</th>\n",
       "      <td>0.58</td>\n",
       "      <td>0.44</td>\n",
       "      <td>0.57</td>\n",
       "      <td>0.13</td>\n",
       "      <td>0.5</td>\n",
       "      <td>0.0</td>\n",
       "      <td>0.54</td>\n",
       "      <td>0.22</td>\n",
       "      <td>NUC</td>\n",
       "    </tr>\n",
       "    <tr>\n",
       "      <th>4</th>\n",
       "      <td>0.42</td>\n",
       "      <td>0.44</td>\n",
       "      <td>0.48</td>\n",
       "      <td>0.54</td>\n",
       "      <td>0.5</td>\n",
       "      <td>0.0</td>\n",
       "      <td>0.48</td>\n",
       "      <td>0.22</td>\n",
       "      <td>MIT</td>\n",
       "    </tr>\n",
       "    <tr>\n",
       "      <th>...</th>\n",
       "      <td>...</td>\n",
       "      <td>...</td>\n",
       "      <td>...</td>\n",
       "      <td>...</td>\n",
       "      <td>...</td>\n",
       "      <td>...</td>\n",
       "      <td>...</td>\n",
       "      <td>...</td>\n",
       "      <td>...</td>\n",
       "    </tr>\n",
       "    <tr>\n",
       "      <th>1479</th>\n",
       "      <td>0.81</td>\n",
       "      <td>0.62</td>\n",
       "      <td>0.43</td>\n",
       "      <td>0.17</td>\n",
       "      <td>0.5</td>\n",
       "      <td>0.0</td>\n",
       "      <td>0.53</td>\n",
       "      <td>0.22</td>\n",
       "      <td>ME2</td>\n",
       "    </tr>\n",
       "    <tr>\n",
       "      <th>1480</th>\n",
       "      <td>0.47</td>\n",
       "      <td>0.43</td>\n",
       "      <td>0.61</td>\n",
       "      <td>0.40</td>\n",
       "      <td>0.5</td>\n",
       "      <td>0.0</td>\n",
       "      <td>0.48</td>\n",
       "      <td>0.47</td>\n",
       "      <td>NUC</td>\n",
       "    </tr>\n",
       "    <tr>\n",
       "      <th>1481</th>\n",
       "      <td>0.67</td>\n",
       "      <td>0.57</td>\n",
       "      <td>0.36</td>\n",
       "      <td>0.19</td>\n",
       "      <td>0.5</td>\n",
       "      <td>0.0</td>\n",
       "      <td>0.56</td>\n",
       "      <td>0.22</td>\n",
       "      <td>ME2</td>\n",
       "    </tr>\n",
       "    <tr>\n",
       "      <th>1482</th>\n",
       "      <td>0.43</td>\n",
       "      <td>0.40</td>\n",
       "      <td>0.60</td>\n",
       "      <td>0.16</td>\n",
       "      <td>0.5</td>\n",
       "      <td>0.0</td>\n",
       "      <td>0.53</td>\n",
       "      <td>0.39</td>\n",
       "      <td>NUC</td>\n",
       "    </tr>\n",
       "    <tr>\n",
       "      <th>1483</th>\n",
       "      <td>0.65</td>\n",
       "      <td>0.54</td>\n",
       "      <td>0.54</td>\n",
       "      <td>0.13</td>\n",
       "      <td>0.5</td>\n",
       "      <td>0.0</td>\n",
       "      <td>0.53</td>\n",
       "      <td>0.22</td>\n",
       "      <td>CYT</td>\n",
       "    </tr>\n",
       "  </tbody>\n",
       "</table>\n",
       "<p>1453 rows × 9 columns</p>\n",
       "</div>"
      ],
      "text/plain": [
       "         1     2     3     4    5    6     7     8    9\n",
       "0     0.58  0.61  0.47  0.13  0.5  0.0  0.48  0.22  MIT\n",
       "1     0.43  0.67  0.48  0.27  0.5  0.0  0.53  0.22  MIT\n",
       "2     0.64  0.62  0.49  0.15  0.5  0.0  0.53  0.22  MIT\n",
       "3     0.58  0.44  0.57  0.13  0.5  0.0  0.54  0.22  NUC\n",
       "4     0.42  0.44  0.48  0.54  0.5  0.0  0.48  0.22  MIT\n",
       "...    ...   ...   ...   ...  ...  ...   ...   ...  ...\n",
       "1479  0.81  0.62  0.43  0.17  0.5  0.0  0.53  0.22  ME2\n",
       "1480  0.47  0.43  0.61  0.40  0.5  0.0  0.48  0.47  NUC\n",
       "1481  0.67  0.57  0.36  0.19  0.5  0.0  0.56  0.22  ME2\n",
       "1482  0.43  0.40  0.60  0.16  0.5  0.0  0.53  0.39  NUC\n",
       "1483  0.65  0.54  0.54  0.13  0.5  0.0  0.53  0.22  CYT\n",
       "\n",
       "[1453 rows x 9 columns]"
      ]
     },
     "execution_count": 4,
     "metadata": {},
     "output_type": "execute_result"
    }
   ],
   "source": [
    "#Drop the Duplicate values\n",
    "protein_df.drop_duplicates()"
   ]
  },
  {
   "cell_type": "code",
   "execution_count": 5,
   "metadata": {
    "colab": {
     "base_uri": "https://localhost:8080/",
     "height": 300
    },
    "id": "7E4SG8SsNur9",
    "outputId": "c3d88f1d-a5a4-4881-cbcf-cb49e1f353b5"
   },
   "outputs": [
    {
     "data": {
      "text/html": [
       "<div>\n",
       "<style scoped>\n",
       "    .dataframe tbody tr th:only-of-type {\n",
       "        vertical-align: middle;\n",
       "    }\n",
       "\n",
       "    .dataframe tbody tr th {\n",
       "        vertical-align: top;\n",
       "    }\n",
       "\n",
       "    .dataframe thead th {\n",
       "        text-align: right;\n",
       "    }\n",
       "</style>\n",
       "<table border=\"1\" class=\"dataframe\">\n",
       "  <thead>\n",
       "    <tr style=\"text-align: right;\">\n",
       "      <th></th>\n",
       "      <th>1</th>\n",
       "      <th>2</th>\n",
       "      <th>3</th>\n",
       "      <th>4</th>\n",
       "      <th>5</th>\n",
       "      <th>6</th>\n",
       "      <th>7</th>\n",
       "      <th>8</th>\n",
       "    </tr>\n",
       "  </thead>\n",
       "  <tbody>\n",
       "    <tr>\n",
       "      <th>count</th>\n",
       "      <td>1484.000000</td>\n",
       "      <td>1484.000000</td>\n",
       "      <td>1484.000000</td>\n",
       "      <td>1484.000000</td>\n",
       "      <td>1484.000000</td>\n",
       "      <td>1484.000000</td>\n",
       "      <td>1484.000000</td>\n",
       "      <td>1484.000000</td>\n",
       "    </tr>\n",
       "    <tr>\n",
       "      <th>mean</th>\n",
       "      <td>0.500121</td>\n",
       "      <td>0.499933</td>\n",
       "      <td>0.500034</td>\n",
       "      <td>0.261186</td>\n",
       "      <td>0.504717</td>\n",
       "      <td>0.007500</td>\n",
       "      <td>0.499885</td>\n",
       "      <td>0.276199</td>\n",
       "    </tr>\n",
       "    <tr>\n",
       "      <th>std</th>\n",
       "      <td>0.137299</td>\n",
       "      <td>0.123924</td>\n",
       "      <td>0.086670</td>\n",
       "      <td>0.137098</td>\n",
       "      <td>0.048351</td>\n",
       "      <td>0.075683</td>\n",
       "      <td>0.057797</td>\n",
       "      <td>0.106491</td>\n",
       "    </tr>\n",
       "    <tr>\n",
       "      <th>min</th>\n",
       "      <td>0.110000</td>\n",
       "      <td>0.130000</td>\n",
       "      <td>0.210000</td>\n",
       "      <td>0.000000</td>\n",
       "      <td>0.500000</td>\n",
       "      <td>0.000000</td>\n",
       "      <td>0.000000</td>\n",
       "      <td>0.000000</td>\n",
       "    </tr>\n",
       "    <tr>\n",
       "      <th>25%</th>\n",
       "      <td>0.410000</td>\n",
       "      <td>0.420000</td>\n",
       "      <td>0.460000</td>\n",
       "      <td>0.170000</td>\n",
       "      <td>0.500000</td>\n",
       "      <td>0.000000</td>\n",
       "      <td>0.480000</td>\n",
       "      <td>0.220000</td>\n",
       "    </tr>\n",
       "    <tr>\n",
       "      <th>50%</th>\n",
       "      <td>0.490000</td>\n",
       "      <td>0.490000</td>\n",
       "      <td>0.510000</td>\n",
       "      <td>0.220000</td>\n",
       "      <td>0.500000</td>\n",
       "      <td>0.000000</td>\n",
       "      <td>0.510000</td>\n",
       "      <td>0.220000</td>\n",
       "    </tr>\n",
       "    <tr>\n",
       "      <th>75%</th>\n",
       "      <td>0.580000</td>\n",
       "      <td>0.570000</td>\n",
       "      <td>0.550000</td>\n",
       "      <td>0.320000</td>\n",
       "      <td>0.500000</td>\n",
       "      <td>0.000000</td>\n",
       "      <td>0.530000</td>\n",
       "      <td>0.300000</td>\n",
       "    </tr>\n",
       "    <tr>\n",
       "      <th>max</th>\n",
       "      <td>1.000000</td>\n",
       "      <td>1.000000</td>\n",
       "      <td>1.000000</td>\n",
       "      <td>1.000000</td>\n",
       "      <td>1.000000</td>\n",
       "      <td>0.830000</td>\n",
       "      <td>0.730000</td>\n",
       "      <td>1.000000</td>\n",
       "    </tr>\n",
       "  </tbody>\n",
       "</table>\n",
       "</div>"
      ],
      "text/plain": [
       "                 1            2            3            4            5  \\\n",
       "count  1484.000000  1484.000000  1484.000000  1484.000000  1484.000000   \n",
       "mean      0.500121     0.499933     0.500034     0.261186     0.504717   \n",
       "std       0.137299     0.123924     0.086670     0.137098     0.048351   \n",
       "min       0.110000     0.130000     0.210000     0.000000     0.500000   \n",
       "25%       0.410000     0.420000     0.460000     0.170000     0.500000   \n",
       "50%       0.490000     0.490000     0.510000     0.220000     0.500000   \n",
       "75%       0.580000     0.570000     0.550000     0.320000     0.500000   \n",
       "max       1.000000     1.000000     1.000000     1.000000     1.000000   \n",
       "\n",
       "                 6            7            8  \n",
       "count  1484.000000  1484.000000  1484.000000  \n",
       "mean      0.007500     0.499885     0.276199  \n",
       "std       0.075683     0.057797     0.106491  \n",
       "min       0.000000     0.000000     0.000000  \n",
       "25%       0.000000     0.480000     0.220000  \n",
       "50%       0.000000     0.510000     0.220000  \n",
       "75%       0.000000     0.530000     0.300000  \n",
       "max       0.830000     0.730000     1.000000  "
      ]
     },
     "execution_count": 5,
     "metadata": {},
     "output_type": "execute_result"
    }
   ],
   "source": [
    "#displays some basic statistical details like percentile, mean, std, min, max, etc.\n",
    "protein_df.describe()"
   ]
  },
  {
   "cell_type": "code",
   "execution_count": 6,
   "metadata": {
    "colab": {
     "base_uri": "https://localhost:8080/"
    },
    "id": "keNiTT0uNur-",
    "outputId": "f2e3e0b6-4b12-4ebd-e260-409dd70eecc9"
   },
   "outputs": [
    {
     "data": {
      "text/plain": [
       "1    float64\n",
       "2    float64\n",
       "3    float64\n",
       "4    float64\n",
       "5    float64\n",
       "6    float64\n",
       "7    float64\n",
       "8    float64\n",
       "9     object\n",
       "dtype: object"
      ]
     },
     "execution_count": 6,
     "metadata": {},
     "output_type": "execute_result"
    }
   ],
   "source": [
    "#Displays the columns data types\n",
    "protein_df.dtypes"
   ]
  },
  {
   "cell_type": "markdown",
   "metadata": {},
   "source": [
    "### Renaming the target class values"
   ]
  },
  {
   "cell_type": "code",
   "execution_count": 7,
   "metadata": {
    "colab": {
     "base_uri": "https://localhost:8080/"
    },
    "id": "QQXvNnDSNusA",
    "outputId": "8e945119-56f3-4562-b388-cddce883c8e6"
   },
   "outputs": [
    {
     "name": "stdout",
     "output_type": "stream",
     "text": [
      "Class 'CYT' is converted to class '0'.\n",
      "Class 'ERL' is converted to class '1'.\n",
      "Class 'EXC' is converted to class '2'.\n",
      "Class 'ME1' is converted to class '3'.\n",
      "Class 'ME2' is converted to class '4'.\n",
      "Class 'ME3' is converted to class '5'.\n",
      "Class 'MIT' is converted to class '6'.\n",
      "Class 'NUC' is converted to class '7'.\n",
      "Class 'POX' is converted to class '8'.\n",
      "Class 'VAC' is converted to class '9'.\n"
     ]
    }
   ],
   "source": [
    "from sklearn.preprocessing import LabelEncoder\n",
    "\n",
    "#acquiring the target variables from last column of dataframe\n",
    "target = protein_df.columns[-1]\n",
    "label_encoder = LabelEncoder()\n",
    "\n",
    "# Fit and transform the target column in the DataFrame\n",
    "protein_df[target] = label_encoder.fit_transform(protein_df[target])\n",
    "\n",
    "# Retrieving original class names and their corresponding numerical values\n",
    "mapping = dict(zip(label_encoder.classes_, label_encoder.transform(label_encoder.classes_)))\n",
    "for class_name, class_value in mapping.items():\n",
    "    print(f\"Class '{class_name}' is converted to class '{class_value}'.\")\n"
   ]
  },
  {
   "cell_type": "markdown",
   "metadata": {
    "id": "7ZfFkrZpYXCH"
   },
   "source": [
    "The above code uses LabelEncoder from the scikit-learn library to convert class names(categorical values) into numerical values for a multi-class classification problem. "
   ]
  },
  {
   "cell_type": "code",
   "execution_count": 8,
   "metadata": {
    "colab": {
     "base_uri": "https://localhost:8080/",
     "height": 206
    },
    "id": "IUs3F7QBNusB",
    "outputId": "2a4a6371-2ace-4a0d-8e61-9419264d0a63"
   },
   "outputs": [
    {
     "data": {
      "text/html": [
       "<div>\n",
       "<style scoped>\n",
       "    .dataframe tbody tr th:only-of-type {\n",
       "        vertical-align: middle;\n",
       "    }\n",
       "\n",
       "    .dataframe tbody tr th {\n",
       "        vertical-align: top;\n",
       "    }\n",
       "\n",
       "    .dataframe thead th {\n",
       "        text-align: right;\n",
       "    }\n",
       "</style>\n",
       "<table border=\"1\" class=\"dataframe\">\n",
       "  <thead>\n",
       "    <tr style=\"text-align: right;\">\n",
       "      <th></th>\n",
       "      <th>1</th>\n",
       "      <th>2</th>\n",
       "      <th>3</th>\n",
       "      <th>4</th>\n",
       "      <th>5</th>\n",
       "      <th>6</th>\n",
       "      <th>7</th>\n",
       "      <th>8</th>\n",
       "      <th>9</th>\n",
       "    </tr>\n",
       "  </thead>\n",
       "  <tbody>\n",
       "    <tr>\n",
       "      <th>0</th>\n",
       "      <td>0.58</td>\n",
       "      <td>0.61</td>\n",
       "      <td>0.47</td>\n",
       "      <td>0.13</td>\n",
       "      <td>0.5</td>\n",
       "      <td>0.0</td>\n",
       "      <td>0.48</td>\n",
       "      <td>0.22</td>\n",
       "      <td>6</td>\n",
       "    </tr>\n",
       "    <tr>\n",
       "      <th>1</th>\n",
       "      <td>0.43</td>\n",
       "      <td>0.67</td>\n",
       "      <td>0.48</td>\n",
       "      <td>0.27</td>\n",
       "      <td>0.5</td>\n",
       "      <td>0.0</td>\n",
       "      <td>0.53</td>\n",
       "      <td>0.22</td>\n",
       "      <td>6</td>\n",
       "    </tr>\n",
       "    <tr>\n",
       "      <th>2</th>\n",
       "      <td>0.64</td>\n",
       "      <td>0.62</td>\n",
       "      <td>0.49</td>\n",
       "      <td>0.15</td>\n",
       "      <td>0.5</td>\n",
       "      <td>0.0</td>\n",
       "      <td>0.53</td>\n",
       "      <td>0.22</td>\n",
       "      <td>6</td>\n",
       "    </tr>\n",
       "    <tr>\n",
       "      <th>3</th>\n",
       "      <td>0.58</td>\n",
       "      <td>0.44</td>\n",
       "      <td>0.57</td>\n",
       "      <td>0.13</td>\n",
       "      <td>0.5</td>\n",
       "      <td>0.0</td>\n",
       "      <td>0.54</td>\n",
       "      <td>0.22</td>\n",
       "      <td>7</td>\n",
       "    </tr>\n",
       "    <tr>\n",
       "      <th>4</th>\n",
       "      <td>0.42</td>\n",
       "      <td>0.44</td>\n",
       "      <td>0.48</td>\n",
       "      <td>0.54</td>\n",
       "      <td>0.5</td>\n",
       "      <td>0.0</td>\n",
       "      <td>0.48</td>\n",
       "      <td>0.22</td>\n",
       "      <td>6</td>\n",
       "    </tr>\n",
       "  </tbody>\n",
       "</table>\n",
       "</div>"
      ],
      "text/plain": [
       "      1     2     3     4    5    6     7     8  9\n",
       "0  0.58  0.61  0.47  0.13  0.5  0.0  0.48  0.22  6\n",
       "1  0.43  0.67  0.48  0.27  0.5  0.0  0.53  0.22  6\n",
       "2  0.64  0.62  0.49  0.15  0.5  0.0  0.53  0.22  6\n",
       "3  0.58  0.44  0.57  0.13  0.5  0.0  0.54  0.22  7\n",
       "4  0.42  0.44  0.48  0.54  0.5  0.0  0.48  0.22  6"
      ]
     },
     "execution_count": 8,
     "metadata": {},
     "output_type": "execute_result"
    }
   ],
   "source": [
    "protein_df.head()"
   ]
  },
  {
   "cell_type": "markdown",
   "metadata": {},
   "source": [
    "### Assigning  column names"
   ]
  },
  {
   "cell_type": "code",
   "execution_count": 9,
   "metadata": {
    "colab": {
     "base_uri": "https://localhost:8080/",
     "height": 206
    },
    "id": "xdKCNlyhNusC",
    "outputId": "e4519313-e6d1-4c9d-d66e-659deed7b808"
   },
   "outputs": [
    {
     "data": {
      "text/html": [
       "<div>\n",
       "<style scoped>\n",
       "    .dataframe tbody tr th:only-of-type {\n",
       "        vertical-align: middle;\n",
       "    }\n",
       "\n",
       "    .dataframe tbody tr th {\n",
       "        vertical-align: top;\n",
       "    }\n",
       "\n",
       "    .dataframe thead th {\n",
       "        text-align: right;\n",
       "    }\n",
       "</style>\n",
       "<table border=\"1\" class=\"dataframe\">\n",
       "  <thead>\n",
       "    <tr style=\"text-align: right;\">\n",
       "      <th></th>\n",
       "      <th>feature #1</th>\n",
       "      <th>feature #2</th>\n",
       "      <th>feature #3</th>\n",
       "      <th>feature #4</th>\n",
       "      <th>feature #5</th>\n",
       "      <th>feature #6</th>\n",
       "      <th>feature #7</th>\n",
       "      <th>feature #8</th>\n",
       "      <th>target</th>\n",
       "    </tr>\n",
       "  </thead>\n",
       "  <tbody>\n",
       "    <tr>\n",
       "      <th>0</th>\n",
       "      <td>0.58</td>\n",
       "      <td>0.61</td>\n",
       "      <td>0.47</td>\n",
       "      <td>0.13</td>\n",
       "      <td>0.5</td>\n",
       "      <td>0.0</td>\n",
       "      <td>0.48</td>\n",
       "      <td>0.22</td>\n",
       "      <td>6</td>\n",
       "    </tr>\n",
       "    <tr>\n",
       "      <th>1</th>\n",
       "      <td>0.43</td>\n",
       "      <td>0.67</td>\n",
       "      <td>0.48</td>\n",
       "      <td>0.27</td>\n",
       "      <td>0.5</td>\n",
       "      <td>0.0</td>\n",
       "      <td>0.53</td>\n",
       "      <td>0.22</td>\n",
       "      <td>6</td>\n",
       "    </tr>\n",
       "    <tr>\n",
       "      <th>2</th>\n",
       "      <td>0.64</td>\n",
       "      <td>0.62</td>\n",
       "      <td>0.49</td>\n",
       "      <td>0.15</td>\n",
       "      <td>0.5</td>\n",
       "      <td>0.0</td>\n",
       "      <td>0.53</td>\n",
       "      <td>0.22</td>\n",
       "      <td>6</td>\n",
       "    </tr>\n",
       "    <tr>\n",
       "      <th>3</th>\n",
       "      <td>0.58</td>\n",
       "      <td>0.44</td>\n",
       "      <td>0.57</td>\n",
       "      <td>0.13</td>\n",
       "      <td>0.5</td>\n",
       "      <td>0.0</td>\n",
       "      <td>0.54</td>\n",
       "      <td>0.22</td>\n",
       "      <td>7</td>\n",
       "    </tr>\n",
       "    <tr>\n",
       "      <th>4</th>\n",
       "      <td>0.42</td>\n",
       "      <td>0.44</td>\n",
       "      <td>0.48</td>\n",
       "      <td>0.54</td>\n",
       "      <td>0.5</td>\n",
       "      <td>0.0</td>\n",
       "      <td>0.48</td>\n",
       "      <td>0.22</td>\n",
       "      <td>6</td>\n",
       "    </tr>\n",
       "  </tbody>\n",
       "</table>\n",
       "</div>"
      ],
      "text/plain": [
       "   feature #1  feature #2  feature #3  feature #4  feature #5  feature #6  \\\n",
       "0        0.58        0.61        0.47        0.13         0.5         0.0   \n",
       "1        0.43        0.67        0.48        0.27         0.5         0.0   \n",
       "2        0.64        0.62        0.49        0.15         0.5         0.0   \n",
       "3        0.58        0.44        0.57        0.13         0.5         0.0   \n",
       "4        0.42        0.44        0.48        0.54         0.5         0.0   \n",
       "\n",
       "   feature #7  feature #8  target  \n",
       "0        0.48        0.22       6  \n",
       "1        0.53        0.22       6  \n",
       "2        0.53        0.22       6  \n",
       "3        0.54        0.22       7  \n",
       "4        0.48        0.22       6  "
      ]
     },
     "execution_count": 9,
     "metadata": {},
     "output_type": "execute_result"
    }
   ],
   "source": [
    "protein_df.columns = ['feature #1', 'feature #2', 'feature #3', 'feature #4', 'feature #5', 'feature #6', 'feature #7', 'feature #8','target']\n",
    "#Displays the first 5 rows in dataframe\n",
    "protein_df.head()"
   ]
  },
  {
   "cell_type": "markdown",
   "metadata": {
    "id": "jgR2B0HNZGwr"
   },
   "source": [
    "The code assigns column names to DataFrame.\n",
    "\n",
    "\n",
    "\n",
    "\n"
   ]
  },
  {
   "cell_type": "code",
   "execution_count": 10,
   "metadata": {},
   "outputs": [
    {
     "data": {
      "image/png": "[encoded data removed]",
      "text/plain": [
       "<Figure size 576x432 with 1 Axes>"
      ]
     },
     "metadata": {
      "needs_background": "light"
     },
     "output_type": "display_data"
    }
   ],
   "source": [
    "# Ditribution of the target variable\n",
    "target_values = protein_df['target']\n",
    "plt.figure(figsize=(8, 6))\n",
    "plt.hist(target_values, bins=10, color='gray')\n",
    "plt.xlabel('Target Variable')\n",
    "plt.ylabel('Frequency')\n",
    "plt.title('Distribution of Target Variable')\n",
    "plt.show()\n"
   ]
  },
  {
   "cell_type": "markdown",
   "metadata": {},
   "source": [
    "### Correlation Matrix"
   ]
  },
  {
   "cell_type": "code",
   "execution_count": 11,
   "metadata": {
    "colab": {
     "base_uri": "https://localhost:8080/",
     "height": 760
    },
    "id": "j6kCY9yCNusE",
    "outputId": "42f68f93-bdde-4de0-8df8-64fa04f9a336"
   },
   "outputs": [
    {
     "data": {
      "image/png": "[encoded data removed]",
      "text/plain": [
       "<Figure size 720x576 with 2 Axes>"
      ]
     },
     "metadata": {
      "needs_background": "light"
     },
     "output_type": "display_data"
    }
   ],
   "source": [
    "#Correlation matrix\n",
    "df=protein_df.drop('target',axis=1)\n",
    "correlation_matrix = df.corr()\n",
    "#fixing the plot size\n",
    "plt.figure(figsize=(10, 8))\n",
    "sns.heatmap(correlation_matrix, annot=True, cmap='magma')\n",
    "#Plot title\n",
    "plt.title('Attribute Correlation')\n",
    "#Displays the plot\n",
    "plt.show()\n"
   ]
  },
  {
   "cell_type": "markdown",
   "metadata": {
    "id": "lYMfpXJHaJyl"
   },
   "source": [
    "Feature #1 has the highest positive correlation"
   ]
  },
  {
   "cell_type": "code",
   "execution_count": 12,
   "metadata": {
    "colab": {
     "base_uri": "https://localhost:8080/",
     "height": 403
    },
    "id": "-mFuLmfrVmQD",
    "outputId": "34bc9282-ee04-4116-a063-151f94da1fa7"
   },
   "outputs": [
    {
     "data": {
      "text/plain": [
       "array([[<AxesSubplot:ylabel='Density'>, <AxesSubplot:ylabel='Density'>,\n",
       "        <AxesSubplot:ylabel='Density'>, <AxesSubplot:ylabel='Density'>],\n",
       "       [<AxesSubplot:ylabel='Density'>, <AxesSubplot:ylabel='Density'>,\n",
       "        <AxesSubplot:ylabel='Density'>, <AxesSubplot:ylabel='Density'>],\n",
       "       [<AxesSubplot:ylabel='Density'>, <AxesSubplot:ylabel='Density'>,\n",
       "        <AxesSubplot:ylabel='Density'>, <AxesSubplot:ylabel='Density'>]],\n",
       "      dtype=object)"
      ]
     },
     "execution_count": 12,
     "metadata": {},
     "output_type": "execute_result"
    },
    {
     "data": {
      "image/png": "[encoded data removed]",
      "text/plain": [
       "<Figure size 432x288 with 12 Axes>"
      ]
     },
     "metadata": {
      "needs_background": "light"
     },
     "output_type": "display_data"
    }
   ],
   "source": [
    "Density_df=protein_df.drop('target',axis=1)\n",
    "Density_df.plot(kind='density', subplots=True, layout=(3,4), sharex=False, sharey=False)"
   ]
  },
  {
   "cell_type": "markdown",
   "metadata": {},
   "source": [
    "The code creates a density plot for each feature column in the DataFrame dfX. The resulting plot is a 3x4 grid of subplots, with each subplot representing a different feature column. Density plots display the distribution of values for each feature, allowing us to see the shape of the data and identify any outliers or unusual patterns"
   ]
  },
  {
   "cell_type": "markdown",
   "metadata": {
    "id": "xXefvJKHVmQD"
   },
   "source": [
    "# Model Evaluation"
   ]
  },
  {
   "cell_type": "code",
   "execution_count": 13,
   "metadata": {
    "id": "C0twoinmVmQD"
   },
   "outputs": [],
   "source": [
    "X = protein_df.iloc[:, 0:8].values\n",
    "y = protein_df.iloc[:, 8].values\n",
    "column_names = list(protein_df.columns[:8])"
   ]
  },
  {
   "cell_type": "markdown",
   "metadata": {},
   "source": [
    "#### Checking the accuray with respect to different algorithms"
   ]
  },
  {
   "cell_type": "code",
   "execution_count": 14,
   "metadata": {
    "colab": {
     "base_uri": "https://localhost:8080/",
     "height": 677
    },
    "id": "EcoXf7FRNusF",
    "outputId": "601d0e0e-0c30-4e60-be39-da0751159ddb"
   },
   "outputs": [
    {
     "data": {
      "image/png": "[encoded data removed]",
      "text/plain": [
       "<Figure size 720x432 with 1 Axes>"
      ]
     },
     "metadata": {
      "needs_background": "light"
     },
     "output_type": "display_data"
    }
   ],
   "source": [
    "import matplotlib.pyplot as plt\n",
    "import numpy as np\n",
    "from sklearn.model_selection import train_test_split\n",
    "from sklearn.metrics import classification_report\n",
    "from sklearn.linear_model import LogisticRegression\n",
    "from sklearn.tree import DecisionTreeClassifier\n",
    "from sklearn.svm import SVC\n",
    "from sklearn.neighbors import KNeighborsClassifier\n",
    "from sklearn.naive_bayes import GaussianNB\n",
    "from sklearn.metrics import accuracy_score\n",
    "from sklearn.ensemble import RandomForestClassifier\n",
    "\n",
    "\n",
    "\n",
    "X_train, X_test, y_train, y_test = train_test_split(X, y, test_size=0.3, random_state=42)\n",
    "\n",
    "classifiers = [\n",
    "    ('Logistic Regression', LogisticRegression(max_iter=1000)),\n",
    "    ('Decision Tree', DecisionTreeClassifier()),\n",
    "    ('Random Forest', RandomForestClassifier()),\n",
    "    ('Support Vector Machine', SVC()),\n",
    "    ('K-Nearest Neighbors', KNeighborsClassifier())]\n",
    "\n",
    "classifier_names = []\n",
    "classifer_accuracy_scores = []\n",
    "\n",
    "for name, classifier in classifiers:\n",
    "    classifier.fit(X_train, y_train)\n",
    "    y_pred = classifier.predict(X_test)\n",
    "    accuracy = accuracy_score(y_test, y_pred)\n",
    "    classifier_names.append(name)\n",
    "    classifer_accuracy_scores.append(accuracy)\n",
    "    \n",
    "plt.figure(figsize=(10, 6))\n",
    "bars = plt.bar(classifier_names, classifer_accuracy_scores)\n",
    "plt.xlabel('Classifier')\n",
    "plt.ylabel('Accuracy')\n",
    "plt.title('Accuracy Scores of Classification Algorithms')\n",
    "plt.xticks(rotation=45)\n",
    "plt.ylim([0, 1])\n",
    "for bar, score in zip(bars, classifer_accuracy_scores):\n",
    "    height = bar.get_height()\n",
    "    plt.text(bar.get_x() + bar.get_width() / 2, height, f'{score:.2f}', ha='center', va='bottom')\n",
    "\n",
    "plt.show()\n",
    "\n",
    "\n"
   ]
  },
  {
   "cell_type": "code",
   "execution_count": 15,
   "metadata": {},
   "outputs": [
    {
     "data": {
      "text/plain": [
       "[0.5627802690582959,\n",
       " 0.5112107623318386,\n",
       " 0.594170403587444,\n",
       " 0.6076233183856502,\n",
       " 0.57847533632287]"
      ]
     },
     "execution_count": 15,
     "metadata": {},
     "output_type": "execute_result"
    }
   ],
   "source": [
    "classifer_accuracy_scores"
   ]
  },
  {
   "cell_type": "markdown",
   "metadata": {
    "id": "2wXYJWIIboUO"
   },
   "source": [
    "From the above code, we have evaluated the performance of six different classification algorithms including Logistic Regression, Decision Tree, Random Forest, Support Vector Machine and  K-Nearest Neighbors on a given dataset.It is observed that Logistic Regression, Random Forest and SVM provides higher accuravies compared to other classifiers\n",
    "\n",
    "\n",
    "\n"
   ]
  },
  {
   "cell_type": "markdown",
   "metadata": {
    "id": "uWi1qYhkVmQD"
   },
   "source": [
    "## Feature Selection"
   ]
  },
  {
   "cell_type": "code",
   "execution_count": 17,
   "metadata": {
    "colab": {
     "base_uri": "https://localhost:8080/"
    },
    "id": "-vpFaAsqVmQD",
    "outputId": "435e7052-2f8b-407f-c488-a60123eb6612"
   },
   "outputs": [
    {
     "name": "stdout",
     "output_type": "stream",
     "text": [
      "Features Selected: ['feature #1']\n",
      "Corresponding Accuracy: 0.35310082810082816\n",
      "\n",
      "Features Selected: ['feature #1', 'feature #2']\n",
      "Corresponding Accuracy: 0.37061379561379565\n",
      "\n",
      "Features Selected: ['feature #1', 'feature #2', 'feature #3']\n",
      "Corresponding Accuracy: 0.45821048321048324\n",
      "\n",
      "Features Selected: ['feature #1', 'feature #2', 'feature #3', 'feature #4']\n",
      "Corresponding Accuracy: 0.5383792883792885\n",
      "\n",
      "Features Selected: ['feature #1', 'feature #2', 'feature #3', 'feature #4', 'feature #5']\n",
      "Corresponding Accuracy: 0.5390526890526891\n",
      "\n",
      "Features Selected: ['feature #1', 'feature #2', 'feature #3', 'feature #4', 'feature #5', 'feature #6']\n",
      "Corresponding Accuracy: 0.537037037037037\n",
      "\n",
      "Features Selected: ['feature #1', 'feature #2', 'feature #3', 'feature #4', 'feature #5', 'feature #6', 'feature #7']\n",
      "Corresponding Accuracy: 0.5336700336700336\n",
      "\n",
      "Features Selected: ['feature #1', 'feature #2', 'feature #3', 'feature #4', 'feature #5', 'feature #6', 'feature #7', 'feature #8']\n",
      "Corresponding Accuracy: 0.599051324051324\n",
      "\n"
     ]
    }
   ],
   "source": [
    "from sklearn.model_selection import cross_val_score\n",
    "\n",
    "# Number of features\n",
    "\n",
    "n_features = X.shape[1]  \n",
    "\n",
    "\n",
    "list_of_accuracies = []\n",
    "\n",
    "for subset_size in range(1, n_features + 1):  \n",
    "    start_index = 0  \n",
    "\n",
    "    feature_indices = range(start_index, start_index + subset_size)\n",
    "    selected_features = X[:, feature_indices]\n",
    "    selected_feature_names = [column_names[i] for i in feature_indices]\n",
    "\n",
    "    classifier = SVC()\n",
    "\n",
    "    #  cross-validation and  accuracy\n",
    "    scores = cross_val_score(classifier, selected_features, y, cv=5)  # Using 5-fold cross-validation\n",
    "    accuracy = np.mean(scores)\n",
    "\n",
    "    list_of_accuracies.append(accuracy)\n",
    "\n",
    "    print(\"Features Selected:\", selected_feature_names)\n",
    "    print(\"Corresponding Accuracy:\", accuracy)\n",
    "    print()\n",
    "\n",
    "    start_index += 1\n"
   ]
  },
  {
   "cell_type": "markdown",
   "metadata": {
    "id": "x6JHvke0cGMk"
   },
   "source": [
    "From the above code, we have performed feature selection using cross-validation and SVM classifier. We have iterated over each possible set of features and computed the accuracy of the classifier using 5-fold cross-validation. The output shows the selected features and the corresponding accuracy for each subset size. As we increase the number of selected features, the accuracy also increases up to a certain point, after which it starts decreasing. The final output shows that using all 8 features gives the highest accuracy of 0.599.\n",
    "\n",
    "\n",
    "\n",
    "\n"
   ]
  },
  {
   "cell_type": "markdown",
   "metadata": {
    "id": "bLPSjaJPVmQE"
   },
   "source": [
    "#### Thus there is no need of feature selection as highest accuracy is achieved only when all the features are considered"
   ]
  },
  {
   "cell_type": "markdown",
   "metadata": {
    "id": "-TEnpYvKVmQE"
   },
   "source": [
    "## Hyperparameter Tunning"
   ]
  },
  {
   "cell_type": "code",
   "execution_count": 18,
   "metadata": {
    "colab": {
     "base_uri": "https://localhost:8080/",
     "height": 677
    },
    "id": "f1NqNRH0VmQE",
    "outputId": "0ab87625-5c7f-4a40-82a9-ef0958994c3b"
   },
   "outputs": [
    {
     "name": "stdout",
     "output_type": "stream",
     "text": [
      "Best parameters for Logistic Regression: {'C': 50}\n",
      "Best parameters for Decision Tree: {'max_depth': 5}\n",
      "Best parameters for Random Forest: {'max_depth': 50, 'n_estimators': 500}\n",
      "Best parameters for Support Vector Machine: {'C': 1, 'kernel': 'rbf'}\n",
      "Best parameters for K-Nearest Neighbors: {'n_neighbors': 20}\n"
     ]
    },
    {
     "data": {
      "image/png": "[encoded data removed]",
      "text/plain": [
       "<Figure size 720x432 with 1 Axes>"
      ]
     },
     "metadata": {
      "needs_background": "light"
     },
     "output_type": "display_data"
    }
   ],
   "source": [
    "from sklearn.model_selection import GridSearchCV\n",
    "from sklearn.metrics import accuracy_score\n",
    "\n",
    "# Parameter grids for each classifier\n",
    "lr_params = {'C': [0.01, 0.05, 0.1, 0.5, 1.0, 3, 10, 50, 100]}\n",
    "dt_params = {'max_depth': [5, 10, 20, 50, None]}\n",
    "rf_params = {'n_estimators': [100, 200, 500], 'max_depth': [5, 10, 20, 50, None]}\n",
    "svm_params = {'C': [0.001, 0.01, 0.1, 1, 10], 'kernel': ['linear', 'rbf']}\n",
    "knn_params = {'n_neighbors': [3, 5, 10, 20]}\n",
    "\n",
    "# List of parameter grids and classifiers\n",
    "param_grids = [lr_params, dt_params, rf_params, svm_params, knn_params]\n",
    "classifiers = [\n",
    "    ('Logistic Regression', LogisticRegression(max_iter=1000)),\n",
    "    ('Decision Tree', DecisionTreeClassifier()),\n",
    "    ('Random Forest', RandomForestClassifier()),\n",
    "    ('Support Vector Machine', SVC()),\n",
    "    ('K-Nearest Neighbors', KNeighborsClassifier())]\n",
    "\n",
    "classifier_names = []\n",
    "PT_accuracy_scores = []\n",
    "best_params_dict = {}\n",
    "\n",
    "# Grid search cross-validation for each classifier\n",
    "for i, (name, classifier) in enumerate(classifiers):\n",
    "    param_grid = param_grids[i]\n",
    "    grid_search = GridSearchCV(classifier, param_grid, cv=5, scoring='accuracy')\n",
    "    grid_search.fit(X_train, y_train)\n",
    "    best_params = grid_search.best_params_\n",
    "    best_params_dict[name] = best_params\n",
    "    best_classifier = classifier.set_params(**best_params)\n",
    "    best_classifier.fit(X_train, y_train)\n",
    "    y_pred = best_classifier.predict(X_test)\n",
    "    accuracy = accuracy_score(y_test, y_pred)\n",
    "    classifier_names.append(name)\n",
    "    PT_accuracy_scores.append(accuracy)\n",
    "\n",
    "    print(f\"Best parameters for {name}: {best_params}\")\n",
    "\n",
    "plt.figure(figsize=(10, 6))\n",
    "bars = plt.bar(classifier_names, PT_accuracy_scores)\n",
    "plt.xlabel('Classifier')\n",
    "plt.ylabel('Accuracy')\n",
    "plt.title('Accuracy Scores of Classification Algorithms (with Parameter Tuning)')\n",
    "plt.xticks(rotation=45)\n",
    "plt.ylim([0, 1])\n",
    "for bar, score in zip(bars, PT_accuracy_scores):\n",
    "    height = bar.get_height()\n",
    "    plt.text(bar.get_x() + bar.get_width() / 2, height, f'{score:.2f}', ha='center', va='bottom')\n",
    "\n",
    "plt.show()\n"
   ]
  },
  {
   "cell_type": "markdown",
   "metadata": {
    "id": "h-gkMXAcdGtZ"
   },
   "source": [
    "The above code performs parameter tuning for the classification algorithms using GridSearchCV with different parameter grids. \n",
    "After paramter tunning there is marginal increse in accuracies of logostic regression and decision tree\n"
   ]
  },
  {
   "cell_type": "code",
   "execution_count": 19,
   "metadata": {},
   "outputs": [
    {
     "data": {
      "image/png": "[encoded data removed]",
      "text/plain": [
       "<Figure size 432x288 with 1 Axes>"
      ]
     },
     "metadata": {
      "needs_background": "light"
     },
     "output_type": "display_data"
    },
    {
     "data": {
      "image/png": "[encoded data removed]",
      "text/plain": [
       "<Figure size 432x288 with 1 Axes>"
      ]
     },
     "metadata": {
      "needs_background": "light"
     },
     "output_type": "display_data"
    },
    {
     "data": {
      "image/png": "[encoded data removed]",
      "text/plain": [
       "<Figure size 432x288 with 1 Axes>"
      ]
     },
     "metadata": {
      "needs_background": "light"
     },
     "output_type": "display_data"
    },
    {
     "data": {
      "image/png": "[encoded data removed]",
      "text/plain": [
       "<Figure size 432x288 with 1 Axes>"
      ]
     },
     "metadata": {
      "needs_background": "light"
     },
     "output_type": "display_data"
    }
   ],
   "source": [
    "from sklearn.model_selection import learning_curve\n",
    "import matplotlib.pyplot as plt\n",
    "\n",
    "# List of classifiers\n",
    "classifiers = [\n",
    "    ('Logistic Regression', LogisticRegression(max_iter=1000)),\n",
    "    ('Decision Tree', DecisionTreeClassifier()),\n",
    "    ('Support Vector Machine', SVC()),\n",
    "    ('K-Nearest Neighbors', KNeighborsClassifier())\n",
    "]\n",
    "\n",
    "# Plot learning curves for each classifier\n",
    "for name, classifier in classifiers:\n",
    "    best_params = best_params_dict[name]\n",
    "    classifier.set_params(**best_params)\n",
    "    train_sizes, train_scores, test_scores = learning_curve(classifier, X, y, cv=5, scoring='accuracy')\n",
    "    train_mean = np.mean(train_scores, axis=1)\n",
    "    train_std = np.std(train_scores, axis=1)\n",
    "    test_mean = np.mean(test_scores, axis=1)\n",
    "    test_std = np.std(test_scores, axis=1)\n",
    "\n",
    "    plt.figure()\n",
    "    plt.plot(train_sizes, train_mean, 'o-', color='r', label='Training Score')\n",
    "    plt.plot(train_sizes, test_mean, 'o-', color='g', label='Cross-Validation Score')\n",
    "    plt.fill_between(train_sizes, train_mean - train_std, train_mean + train_std, alpha=0.1, color='r')\n",
    "    plt.fill_between(train_sizes, test_mean - test_std, test_mean + test_std, alpha=0.1, color='g')\n",
    "    plt.xlabel('Training Set Size')\n",
    "    plt.ylabel('Accuracy Score')\n",
    "    plt.title(f'Learning Curve: {name}')\n",
    "    plt.legend(loc='best')\n",
    "    plt.grid(True)\n",
    "\n",
    "plt.show()\n"
   ]
  },
  {
   "cell_type": "markdown",
   "metadata": {},
   "source": [
    "Logistic Regression,Decision Tree,SVM and KNN converge fairly quickly,with incresing training data. "
   ]
  },
  {
   "cell_type": "markdown",
   "metadata": {
    "id": "nxf6bBDHdTjK"
   },
   "source": [
    "The plot  concludes that there is not much improvement in the model accuracy even after parameter tuninning. The accuracies of Logistic Regression, Random forest and KNN have increased marginally.\n",
    "\n",
    "\n",
    "\n"
   ]
  },
  {
   "cell_type": "markdown",
   "metadata": {
    "id": "ze7kmiArVmQE"
   },
   "source": [
    "## Ensembling\n",
    "Ensembling in Python refers to a technique in machine learning where multiple models are combined to improve the overall performance of the prediction. The basic idea is that the combined predictions of several models are often more accurate than the prediction of a single model."
   ]
  },
  {
   "cell_type": "code",
   "execution_count": 20,
   "metadata": {
    "colab": {
     "base_uri": "https://localhost:8080/"
    },
    "id": "dEDiAdJSVmQE",
    "outputId": "6ed602b0-ef62-441f-d89e-f45ba8d55670"
   },
   "outputs": [
    {
     "name": "stdout",
     "output_type": "stream",
     "text": [
      "Voting Classifier Accuracy: 0.6076233183856502\n",
      "Best Model: rfc\n",
      "Best Model Accuracy: 0.6143497757847534\n"
     ]
    }
   ],
   "source": [
    "from sklearn.ensemble import VotingClassifier\n",
    "from sklearn.linear_model import LogisticRegression\n",
    "from sklearn.ensemble import RandomForestClassifier\n",
    "from sklearn.svm import SVC\n",
    "from sklearn.neighbors import KNeighborsClassifier\n",
    "\n",
    "LR_Model = LogisticRegression(random_state=1, max_iter=1000)\n",
    "RFC_Model = RandomForestClassifier(random_state=1)\n",
    "SVC_Model = SVC()\n",
    "KNC_Model = KNeighborsClassifier()\n",
    "\n",
    "model = VotingClassifier(estimators=[('lr', LR_Model), ('rfc', RFC_Model), ('svc', SVC_Model), ('knn', KNC_Model)], voting='hard')\n",
    "model.fit(X_train, y_train)\n",
    "accuracy = model.score(X_test, y_test)\n",
    "\n",
    "best_model = None\n",
    "best_model_name = None\n",
    "best_accuracy = 0.0\n",
    "\n",
    "for model_name, model_instance in model.named_estimators_.items():\n",
    "    model_accuracy = model_instance.score(X_test, y_test)\n",
    "    if model_accuracy > best_accuracy:\n",
    "        best_accuracy = model_accuracy\n",
    "        best_model = model_instance\n",
    "        best_model_name = model_name\n",
    "\n",
    "print(\"Voting Classifier Accuracy:\", accuracy)\n",
    "print(\"Best Model:\", best_model_name)\n",
    "print(\"Best Model Accuracy:\", best_accuracy)\n",
    "\n"
   ]
  },
  {
   "cell_type": "markdown",
   "metadata": {
    "id": "tJ7NdtABdysA"
   },
   "source": [
    "We have implemented an ensemble learning method called Voting Classifier to combine the predictions of multiple machine learning models. We have used four classifiers (Logistic Regression, Random Forest, SVM, and KNN) and combined their predictions using a majority vote. \n",
    "\n",
    "\n"
   ]
  },
  {
   "cell_type": "markdown",
   "metadata": {},
   "source": [
    "### Analyzing the top 3 most occured classes in test set"
   ]
  },
  {
   "cell_type": "code",
   "execution_count": 21,
   "metadata": {},
   "outputs": [
    {
     "name": "stdout",
     "output_type": "stream",
     "text": [
      "Top three most frequent classes:\n",
      "Class: 0 Count: 146\n",
      "Class: 7 Count: 129\n",
      "Class: 6 Count: 71\n"
     ]
    }
   ],
   "source": [
    "# Train the Random Forest classifier\n",
    "RFC_Model.fit(X_train, y_train)\n",
    "# Predict the class labels for the test data\n",
    "y_pred = RFC_Model.predict(X_test)\n",
    "class_counts = Counter(y_pred)\n",
    "# Get the top three most frequent classes\n",
    "top_classes = class_counts.most_common(3)\n",
    "# Print the top three most frequent classes\n",
    "print(\"Top three most frequent classes:\")\n",
    "for class_label, count in top_classes:\n",
    "    print(\"Class:\", class_label, \"Count:\", count)\n"
   ]
  },
  {
   "cell_type": "code",
   "execution_count": 22,
   "metadata": {},
   "outputs": [
    {
     "name": "stdout",
     "output_type": "stream",
     "text": [
      "Least frequent class: 9\n",
      "Count: 1\n"
     ]
    }
   ],
   "source": [
    "least_frequent_class = min(class_counts, key=class_counts.get)\n",
    "# Print the least frequent class and its count\n",
    "print(\"Least frequent class:\", least_frequent_class)\n",
    "print(\"Count:\", class_counts[least_frequent_class])"
   ]
  },
  {
   "cell_type": "markdown",
   "metadata": {},
   "source": [
    "Proteins located within vacuoles are observed least"
   ]
  },
  {
   "cell_type": "markdown",
   "metadata": {},
   "source": [
    "In Conclusion\n",
    "\n",
    "-  The dataset consists of 9 different classes.\n",
    "-  The best accuracy is acquired only when all the features are considered.\n",
    "-  Logistic Regression, Random Forest,SVM and KNN are the best performing algorithms when comapred to Decison Tree Classifier.\n",
    "- Random Forest Classifier has the highest accuracy from  base model evaluation.\n",
    "-  There is marginal increase in accuracies of Logistic Regression, SVM and KNN after paramter tunning. \n",
    "-  Based on the accuracy of voting classifer the best perfroming algorithm is Random Forest Classifier.\n",
    "-  Least perfroming classifier is decision tree\n"
   ]
  },
  {
   "cell_type": "code",
   "execution_count": null,
   "metadata": {},
   "outputs": [],
   "source": []
  }
 ],
 "metadata": {
  "colab": {
   "provenance": []
  },
  "gist": {
   "data": {
    "description": "Desktop/Side_projects/datacamp_exercises/Predicting Credit Card Approvals/predicting_credit_card_approval.ipynb",
    "public": false
   },
   "id": ""
  },
  "kernelspec": {
   "display_name": "Python 3 (ipykernel)",
   "language": "python",
   "name": "python3"
  },
  "language_info": {
   "codemirror_mode": {
    "name": "ipython",
    "version": 3
   },
   "file_extension": ".py",
   "mimetype": "text/x-python",
   "name": "python",
   "nbconvert_exporter": "python",
   "pygments_lexer": "ipython3",
   "version": "3.9.12"
  }
 },
 "nbformat": 4,
 "nbformat_minor": 1
}
